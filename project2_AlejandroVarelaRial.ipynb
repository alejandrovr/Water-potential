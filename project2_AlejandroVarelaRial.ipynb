{
 "cells": [
  {
   "cell_type": "markdown",
   "metadata": {},
   "source": [
    "# Project 2. MSI.\n",
    "## Alejandro Varela Rial."
   ]
  },
  {
   "cell_type": "markdown",
   "metadata": {},
   "source": [
    "This project aims to produce a file which, once superposed with the simulated protein in VMD, shows the water potential of the system. This is achieved by creating an imaginary 3D grid around the simulations and counting how many times oxigen atoms from water molecules appear in a voxel of this 3D grid along all the frames in the simulations. After normalize and use the chemical potential ecuation one can obtain a .cube file with writeVoxels function. "
   ]
  },
  {
   "cell_type": "code",
   "execution_count": 1,
   "metadata": {
    "collapsed": false
   },
   "outputs": [
    {
     "name": "stdout",
     "output_type": "stream",
     "text": [
      "New HTMD version (1.0.23) is available. You are currently on (1.0.16). Use 'conda update htmd' to update to the new version.\n"
     ]
    }
   ],
   "source": [
    "from htmd import *\n",
    "from htmd.molecule.util import maxDistance,writeVoxels"
   ]
  },
  {
   "cell_type": "code",
   "execution_count": 2,
   "metadata": {
    "collapsed": false
   },
   "outputs": [],
   "source": [
    "def dense(molecule,dmatrix=None):\n",
    "    '''Calculates water distribution of a simulation and returns it as a 3D matrix.\n",
    "    If a matrix is given, water distribution of given molecule object is summed to this matrix'''\n",
    "    dist=round(maxDistance(molecule)) #Maximum distance from origin gives us an idea about how big the matrix will need to be.\n",
    "    trajwat=molecule.copy()\n",
    "    trajwat.filter('water and name OH2') #pick only oxygen atoms from the simulation.\n",
    "    if dmatrix is not None:\n",
    "        densitymat=dmatrix\n",
    "    else:\n",
    "        densitymat = np.zeros((dist+10,dist+10,dist+10))\n",
    "    #main loop, iterates through atoms and frames in a given simulation.\n",
    "    for atom in range(0,trajwat.coords.shape[0]): #atoms\n",
    "        for frame in range(0,trajwat.coords.shape[2]): #frames\n",
    "            try:\n",
    "                x=int(trajwat.coords[atom][0][frame]) #integers allows the division of the 3D imaginary grid in 1*1*1 voxels.\n",
    "                y=int(trajwat.coords[atom][1][frame])\n",
    "                z=int(trajwat.coords[atom][2][frame])\n",
    "                if x<0 or y<0 or z<0:\n",
    "                    continue #avoid negative indexing in the matrix.\n",
    "                densitymat[x][y][z]=densitymat[x][y][z]+1\n",
    "\n",
    "            except IndexError:\n",
    "                continue\n",
    "\n",
    "    return densitymat"
   ]
  },
  {
   "cell_type": "markdown",
   "metadata": {},
   "source": [
    "The main steps of the code are the following: Iterate through the simulations, for each simulation: move the protein and its water molecules to positive coordinates, wrap it to avoid dispersion of water and align all frames in the simulation to the first frame of the first simulated molecule, count the frecuency of oxygen atoms in the voxels. As all simulations are aligned to the first one, we can attribute water distribution to the interaction of the protein and the water. \n",
    "\n",
    "Please, change the name 'simu_mainfolder' to the name of the folder where the simulations are stored. Also, change 'simu_mainfolder/*/structure.pdb' to the corresponding path to the protein .pdb file.\n",
    "\n",
    "As you can see, a value of 54.0 was selected to move the protein. This value was obtained after running all the simulations trying to obtain the farthest point in one of the three dimensions, which turn out to be over -800. That will create a huge and innecesary matrix which can cause a \"MemoryError\". To avoid this, another value that was popular among the farthest was selected. In the \"dense\" function, you can see a condition that does not allow negative coordinates to enter values in the matrix. Less than ten molecules are excluded with this method.\n",
    "\n",
    "Once the molecule is moved to [54.0,54.0,54.0] all coordinates of the molecule object (except by those few extreme values) have positive values, which eases the indexing of the matrix."
   ]
  },
  {
   "cell_type": "code",
   "execution_count": 3,
   "metadata": {
    "collapsed": false
   },
   "outputs": [
    {
     "name": "stdout",
     "output_type": "stream",
     "text": [
      "Creating simlist: 100% (11/11) [###################################] eta 00:01 -\n",
      "0 /9\n"
     ]
    },
    {
     "name": "stderr",
     "output_type": "stream",
     "text": [
      "/home/alejandro/miniconda3/lib/python3.5/site-packages/ipykernel/__main__.py:10: DeprecationWarning: using a non-integer number instead of an integer will result in an error in the future\n"
     ]
    },
    {
     "name": "stdout",
     "output_type": "stream",
     "text": [
      "1 /9\n",
      "2 /9\n",
      "3 /9\n",
      "4 /9\n",
      "5 /9\n",
      "6 /9\n",
      "7 /9\n",
      "8 /9\n",
      "9 /9\n"
     ]
    }
   ],
   "source": [
    "count2=0\n",
    "sims=simlist(glob('simu_mainfolder/*/'),glob('simu_mainfolder/*/structure.pdb')) #Load structures and their corresponding trajectories.\n",
    "tmax=54.0 #Frecuent maximun distance of atoms in one dimension from origin in all simulations. Obtained by empirical analysis with this dataset.\n",
    "#main loop\n",
    "for x in sims:\n",
    "    print(count2,'/9')\n",
    "    mol=Molecule(x)\n",
    "    framesn=mol.numFrames\n",
    "    atomsn=mol.numAtoms\n",
    "    mol.wrap('protein') #wrap to avoid dispersion of water, in a biological system, water is not allow to flow away from proteins.\n",
    "    mol.moveBy([tmax,tmax,tmax]) #now everything is in positive coordinates\n",
    "    if count2>0:\n",
    "        mol.align('protein',refmol) \n",
    "        #refmol is the first simulation in the data set.\n",
    "        #Align all the simulations with the first allows water molecules to have the same spatial reference.\n",
    "        mymatrix=dense(mol,mymatrix)\n",
    "    else:\n",
    "        mol.align('protein') \n",
    "        mymatrix=dense(mol)\n",
    "    #mol.view() You can uncomment this line to view all simulations superposed.\n",
    "    if count2==0:\n",
    "        refmol=mol\n",
    "    count2+=1"
   ]
  },
  {
   "cell_type": "markdown",
   "metadata": {},
   "source": [
    "Now, we have to transform probabilities into energy terms and draw the cube. The line \"mol.view()\" will open VMD. Once it is open, load the waterpot.cube file to superpose it with the protein. If you open externally the protein, it will be placed at [0,0,0] and it will not superpose with the .cube file.\n",
    "\n",
    "In the image, one can see the superposition between the protein and the water potential revealing a strong interaction between the two molecules. At the medium-right area of the sphere there is a part of the protein which is not \"covered\" by the water potential surface, this is due to the fact that we are observing one frame which is not very frequent."
   ]
  },
  {
   "cell_type": "code",
   "execution_count": 4,
   "metadata": {
    "collapsed": false
   },
   "outputs": [],
   "source": [
    "kB=0.001987191\n",
    "T=298\n",
    "densitymat_norm=mymatrix/(framesn*10*atomsn) #data normalisation\n",
    "densitymat_norm=densitymat_norm+(10**(-40)) #pseudocounts to avoid -inf results.\n",
    "densitymat_norm=-kB*np.log(densitymat_norm)*T\n",
    "writeVoxels(densitymat_norm,'waterpot.cube',np.array([0,0,0]),densitymat_norm.shape,np.array([1,1,1]))\n",
    "mol.view()"
   ]
  },
  {
   "cell_type": "markdown",
   "metadata": {},
   "source": [
    "<img src=\"Resultp2.png\">"
   ]
  }
 ],
 "metadata": {
  "kernelspec": {
   "display_name": "Python 3",
   "language": "python",
   "name": "python3"
  },
  "language_info": {
   "codemirror_mode": {
    "name": "ipython",
    "version": 3
   },
   "file_extension": ".py",
   "mimetype": "text/x-python",
   "name": "python",
   "nbconvert_exporter": "python",
   "pygments_lexer": "ipython3",
   "version": "3.5.1"
  }
 },
 "nbformat": 4,
 "nbformat_minor": 0
}
